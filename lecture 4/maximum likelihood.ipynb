{
 "cells": [
  {
   "cell_type": "markdown",
   "metadata": {},
   "source": [
    "# MLE(maximum likelihood estimation) and Hypothesis Testing\n",
    "Read the given csv file q4.csv of samples. Assume that it is drawn from a exponential distribution. What is the difference of log likelihoods for $\\lambda = 1$ and $\\lambda = 2$ ? Which of the two is more strongly supported?"
   ]
  },
  {
   "cell_type": "code",
   "execution_count": 1,
   "metadata": {},
   "outputs": [],
   "source": [
    "import numpy as np\n",
    "import pandas as pd\n",
    "from scipy import stats\n",
    "from matplotlib import pyplot as plt\n",
    "import seaborn as sns"
   ]
  },
  {
   "cell_type": "code",
   "execution_count": 2,
   "metadata": {},
   "outputs": [
    {
     "data": {
      "text/html": [
       "<div>\n",
       "<style scoped>\n",
       "    .dataframe tbody tr th:only-of-type {\n",
       "        vertical-align: middle;\n",
       "    }\n",
       "\n",
       "    .dataframe tbody tr th {\n",
       "        vertical-align: top;\n",
       "    }\n",
       "\n",
       "    .dataframe thead th {\n",
       "        text-align: right;\n",
       "    }\n",
       "</style>\n",
       "<table border=\"1\" class=\"dataframe\">\n",
       "  <thead>\n",
       "    <tr style=\"text-align: right;\">\n",
       "      <th></th>\n",
       "      <th>0</th>\n",
       "      <th>1</th>\n",
       "    </tr>\n",
       "  </thead>\n",
       "  <tbody>\n",
       "    <tr>\n",
       "      <th>0</th>\n",
       "      <td>0</td>\n",
       "      <td>0.019404</td>\n",
       "    </tr>\n",
       "    <tr>\n",
       "      <th>1</th>\n",
       "      <td>1</td>\n",
       "      <td>0.043634</td>\n",
       "    </tr>\n",
       "    <tr>\n",
       "      <th>2</th>\n",
       "      <td>2</td>\n",
       "      <td>0.023797</td>\n",
       "    </tr>\n",
       "    <tr>\n",
       "      <th>3</th>\n",
       "      <td>3</td>\n",
       "      <td>0.444340</td>\n",
       "    </tr>\n",
       "    <tr>\n",
       "      <th>4</th>\n",
       "      <td>4</td>\n",
       "      <td>0.578160</td>\n",
       "    </tr>\n",
       "  </tbody>\n",
       "</table>\n",
       "</div>"
      ],
      "text/plain": [
       "   0         1\n",
       "0  0  0.019404\n",
       "1  1  0.043634\n",
       "2  2  0.023797\n",
       "3  3  0.444340\n",
       "4  4  0.578160"
      ]
     },
     "execution_count": 2,
     "metadata": {},
     "output_type": "execute_result"
    }
   ],
   "source": [
    "url = 'https://raw.githubusercontent.com/Ipsit1234/SHALA/master/q4.csv'\n",
    "data = pd.read_csv(url,header=None)\n",
    "data.head()"
   ]
  },
  {
   "cell_type": "code",
   "execution_count": 4,
   "metadata": {},
   "outputs": [
    {
     "name": "stdout",
     "output_type": "stream",
     "text": [
      "-20.366416970604874\n"
     ]
    }
   ],
   "source": [
    "def pdf_exp(lamb,x):\n",
    "    return lamb * np.exp(-1*lamb*x)\n",
    "likelihood1 = 1\n",
    "likelihood2 = 1\n",
    "for aa in data[1].values:\n",
    "      likelihood1 = likelihood1 * pdf_exp(x = aa,lamb=1)\n",
    "      likelihood2 = likelihood2 * pdf_exp(x = aa,lamb=2)\n",
    "log_likelihood1 = np.log(likelihood1)\n",
    "log_likelihood2 = np.log(likelihood2)\n",
    "print(log_likelihood1 - log_likelihood2)   "
   ]
  },
  {
   "cell_type": "markdown",
   "metadata": {},
   "source": [
    "# Read the csv files q4_1.csv and q4_2.csv to get samples from two unknown distributions. Choose a significance level and implement the the most general two-sample t-tes"
   ]
  },
  {
   "cell_type": "code",
   "execution_count": 5,
   "metadata": {},
   "outputs": [
    {
     "name": "stdout",
     "output_type": "stream",
     "text": [
      "   0         1\n",
      "0  0 -0.179278\n",
      "1  1  0.236714\n",
      "2  2  0.255502\n",
      "3  3 -0.029321\n",
      "4  4  0.004818\n",
      "   0         1\n",
      "0  0  0.680541\n",
      "1  1  0.436810\n",
      "2  2  0.604089\n",
      "3  3  0.518702\n",
      "4  4  0.479711\n"
     ]
    }
   ],
   "source": [
    "sample1 = pd.read_csv('https://raw.githubusercontent.com/Ipsit1234/SHALA/master/q4_1.csv',header=None)\n",
    "sample2 = pd.read_csv('https://raw.githubusercontent.com/Ipsit1234/SHALA/master/q4_2.csv',header=None)\n",
    "print(sample1.head())\n",
    "print(sample2.head())"
   ]
  },
  {
   "cell_type": "code",
   "execution_count": null,
   "metadata": {},
   "outputs": [],
   "source": [
    "#Find the parameters required to compute the T statistic"
   ]
  },
  {
   "cell_type": "code",
   "execution_count": 6,
   "metadata": {},
   "outputs": [],
   "source": [
    "significance = 0.05\n",
    "mu1 = np.mean(sample1[1].values)\n",
    "mu2 = np.mean(sample2[1].values)\n",
    "s1 = np.var(sample1[1].values)\n",
    "s2 = np.var(sample2[1].values)\n",
    "n1 = sample1[1].shape[0]\n",
    "n2 = sample1[1].shape[0]"
   ]
  },
  {
   "cell_type": "code",
   "execution_count": 7,
   "metadata": {},
   "outputs": [],
   "source": [
    "#Find the degrees of freedom to get the critical value"
   ]
  },
  {
   "cell_type": "code",
   "execution_count": 9,
   "metadata": {},
   "outputs": [],
   "source": [
    "T = (mu1 - mu2) / np.sqrt((s1/n1) + (s2 / n2))\n",
    "df = np.square((s1/n1) + (s2 / n2)) / (((s1/n1)**2)/(n1-1) + ((s2/n2)**2)/(n2-1))"
   ]
  },
  {
   "cell_type": "code",
   "execution_count": 10,
   "metadata": {},
   "outputs": [],
   "source": [
    "#Compare the critical value and the T statistic and conclude whether null hypothesis is accepted or not. Print 'YES' is it is rejected, otherwise print 'NO'."
   ]
  },
  {
   "cell_type": "code",
   "execution_count": 11,
   "metadata": {},
   "outputs": [
    {
     "name": "stdout",
     "output_type": "stream",
     "text": [
      "T : 18.292145241166835, Critical Value : 0.35547474461325235\n",
      "YES\n"
     ]
    }
   ],
   "source": [
    "critical_value = stats.t.pdf((1-significance)/2,df)\n",
    "print('T : {}, Critical Value : {}'.format(np.abs(T),critical_value))\n",
    "if np.abs(T) > critical_value:\n",
    "#   print('Null hypothesis is rejected')\n",
    "    print('YES')\n",
    "else:\n",
    "#   print('Null hypothesis is not rejected')\n",
    "    print('NO')"
   ]
  },
  {
   "cell_type": "code",
   "execution_count": 12,
   "metadata": {},
   "outputs": [],
   "source": [
    "#Plot the distribution of both the samples to visualize"
   ]
  },
  {
   "cell_type": "code",
   "execution_count": 13,
   "metadata": {},
   "outputs": [
    {
     "data": {
      "image/png": "[encoded data removed]",
      "text/plain": [
       "<Figure size 432x288 with 1 Axes>"
      ]
     },
     "metadata": {
      "needs_background": "light"
     },
     "output_type": "display_data"
    }
   ],
   "source": [
    "sns.distplot(sample1[1].values)\n",
    "sns.distplot(sample2[1].values)\n",
    "plt.legend(['first sample','second sample'])\n",
    "plt.show()"
   ]
  },
  {
   "cell_type": "code",
   "execution_count": null,
   "metadata": {},
   "outputs": [],
   "source": []
  }
 ],
 "metadata": {
  "kernelspec": {
   "display_name": "Python 3.6 (tensorflow)",
   "language": "python",
   "name": "tensorflow"
  },
  "language_info": {
   "codemirror_mode": {
    "name": "ipython",
    "version": 3
   },
   "file_extension": ".py",
   "mimetype": "text/x-python",
   "name": "python",
   "nbconvert_exporter": "python",
   "pygments_lexer": "ipython3",
   "version": "3.6.8"
  }
 },
 "nbformat": 4,
 "nbformat_minor": 4
}
