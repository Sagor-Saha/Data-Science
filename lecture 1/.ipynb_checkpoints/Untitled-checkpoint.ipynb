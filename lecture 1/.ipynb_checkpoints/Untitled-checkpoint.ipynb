{
 "cells": [
  {
   "cell_type": "markdown",
   "metadata": {},
   "source": [
    "# Part 1: Numpy"
   ]
  },
  {
   "cell_type": "code",
   "execution_count": 1,
   "metadata": {},
   "outputs": [],
   "source": [
    "# Importing the module\n",
    "import numpy as np"
   ]
  },
  {
   "cell_type": "code",
   "execution_count": 4,
   "metadata": {},
   "outputs": [
    {
     "name": "stdout",
     "output_type": "stream",
     "text": [
      "[[1 2 3]\n",
      " [4 5 6]]\n",
      "<class 'numpy.ndarray'>\n"
     ]
    }
   ],
   "source": [
    "#Creating an array\n",
    "a = np.array([[1,2,3],[4,5,6]])\n",
    "print(a)\n",
    "print(type(a))"
   ]
  },
  {
   "cell_type": "code",
   "execution_count": 5,
   "metadata": {},
   "outputs": [
    {
     "name": "stdout",
     "output_type": "stream",
     "text": [
      "[[1.+0.j 2.+0.j]\n",
      " [3.+0.j 4.+0.j]]\n"
     ]
    }
   ],
   "source": [
    "#Producing complex number\n",
    "b = np.array([[1,2],[3,4]],dtype = complex)\n",
    "print(b)"
   ]
  },
  {
   "cell_type": "code",
   "execution_count": 10,
   "metadata": {},
   "outputs": [
    {
     "name": "stdout",
     "output_type": "stream",
     "text": [
      "c = [[0. 0. 0. 0. 0.]\n",
      " [0. 0. 0. 0. 0.]\n",
      " [0. 0. 0. 0. 0.]\n",
      " [0. 0. 0. 0. 0.]\n",
      " [0. 0. 0. 0. 0.]]\n"
     ]
    }
   ],
   "source": [
    "#create an array which contains zeros\n",
    "c = np.zeros((5,5))\n",
    "print('c = {}'.format(c))"
   ]
  },
  {
   "cell_type": "code",
   "execution_count": 13,
   "metadata": {},
   "outputs": [
    {
     "name": "stdout",
     "output_type": "stream",
     "text": [
      "d =[[0.00000000e+000 0.00000000e+000 0.00000000e+000]\n",
      " [0.00000000e+000 0.00000000e+000 1.52172219e-321]\n",
      " [1.37961709e-306 1.44635488e-307 9.34609111e-307]]\n"
     ]
    }
   ],
   "source": [
    "#Create an empty array of ones\n",
    "d = np.empty((3,3))\n",
    "print(('d ={}'.format(d)))"
   ]
  },
  {
   "cell_type": "code",
   "execution_count": 16,
   "metadata": {},
   "outputs": [
    {
     "name": "stdout",
     "output_type": "stream",
     "text": [
      "d = [[[1 1 1 1]\n",
      "  [1 1 1 1]\n",
      "  [1 1 1 1]]\n",
      "\n",
      " [[1 1 1 1]\n",
      "  [1 1 1 1]\n",
      "  [1 1 1 1]]]\n"
     ]
    }
   ],
   "source": [
    "#Create an empty array of ones\n",
    "d = np.ones((2,3,4), dtype = np.int16)\n",
    "print('d = {}'.format(d))"
   ]
  },
  {
   "cell_type": "code",
   "execution_count": 18,
   "metadata": {},
   "outputs": [
    {
     "name": "stdout",
     "output_type": "stream",
     "text": [
      "f = [[1. 0. 0. 0. 0.]\n",
      " [0. 1. 0. 0. 0.]\n",
      " [0. 0. 1. 0. 0.]\n",
      " [0. 0. 0. 1. 0.]\n",
      " [0. 0. 0. 0. 1.]]\n"
     ]
    }
   ],
   "source": [
    "#Creating an Identity matrix\n",
    "e = np.eye(5)\n",
    "print('f = {}'.format(e))"
   ]
  },
  {
   "cell_type": "code",
   "execution_count": 21,
   "metadata": {},
   "outputs": [
    {
     "name": "stdout",
     "output_type": "stream",
     "text": [
      "f = [[1. 1. 1. 1. 1.]\n",
      " [1. 1. 1. 1. 1.]\n",
      " [1. 1. 1. 1. 1.]\n",
      " [1. 1. 1. 1. 1.]\n",
      " [1. 1. 1. 1. 1.]]\n"
     ]
    }
   ],
   "source": [
    "#creating an array of ones with the same size of array c\n",
    "f = np.ones_like(e)\n",
    "print('f = {}'.format(f))"
   ]
  },
  {
   "cell_type": "code",
   "execution_count": 25,
   "metadata": {},
   "outputs": [
    {
     "name": "stdout",
     "output_type": "stream",
     "text": [
      "g = [[inf inf inf inf inf]\n",
      " [inf inf inf inf inf]\n",
      " [inf inf inf inf inf]\n",
      " [inf inf inf inf inf]\n",
      " [inf inf inf inf inf]]\n"
     ]
    }
   ],
   "source": [
    "#creating an array filled with inf values\n",
    "g = np.full((5,5), np.inf)\n",
    "print('g = {}'.format(g))"
   ]
  },
  {
   "cell_type": "code",
   "execution_count": 26,
   "metadata": {},
   "outputs": [
    {
     "name": "stdout",
     "output_type": "stream",
     "text": [
      "h = [[1 2 3]\n",
      " [4 5 6]\n",
      " [5 6 7]]\n"
     ]
    }
   ],
   "source": [
    "#creating a 3*3 array\n",
    "h = np.array([[1,2,3],[4,5,6],[5,6,7]])\n",
    "print('h = {}'.format(h))"
   ]
  },
  {
   "cell_type": "code",
   "execution_count": 27,
   "metadata": {},
   "outputs": [
    {
     "name": "stdout",
     "output_type": "stream",
     "text": [
      "i = [1 5 7]\n"
     ]
    }
   ],
   "source": [
    "#creating an array of ones with the same size of array c\n",
    "i = np.diag(h)\n",
    "print('i = {}'.format(i))"
   ]
  },
  {
   "cell_type": "code",
   "execution_count": 30,
   "metadata": {},
   "outputs": [
    {
     "name": "stdout",
     "output_type": "stream",
     "text": [
      "j = [[1 2 3]\n",
      " [4 5 6]\n",
      " [7 8 9]]\n",
      "--------------------\n",
      "k = [2 6]\n",
      "--------------------\n",
      "k = [4 8]\n",
      "--------------------\n"
     ]
    }
   ],
   "source": [
    "#finding the diagonals above and below the main diagonal\n",
    "j = np.array([[1,2,3],[4,5,6],[7,8,9]])\n",
    "print('j = {}'.format(j))\n",
    "print('-'*20)\n",
    "k = np.diag(j,k=1)\n",
    "print('k = {}'.format(k))\n",
    "print('-'*20)\n",
    "l = np.diag(j,k=-1)\n",
    "print('k = {}'.format(l))\n",
    "print('-'*20)"
   ]
  },
  {
   "cell_type": "code",
   "execution_count": 31,
   "metadata": {},
   "outputs": [],
   "source": [
    "#Creating a sequence of number"
   ]
  },
  {
   "cell_type": "code",
   "execution_count": 32,
   "metadata": {},
   "outputs": [
    {
     "name": "stdout",
     "output_type": "stream",
     "text": [
      "a = [1 3 5]\n"
     ]
    }
   ],
   "source": [
    "#creating a sequence of three numbers between 1 and 7\n",
    "a = np.arange(1,7,2)\n",
    "print('a = {}'.format(a))"
   ]
  },
  {
   "cell_type": "code",
   "execution_count": 33,
   "metadata": {},
   "outputs": [
    {
     "name": "stdout",
     "output_type": "stream",
     "text": [
      "g = [1.  1.5 2.  2.5 3.  3.5 4.  4.5 5.  5.5 6.  6.5 7.  7.5 8.  8.5 9.  9.5]\n"
     ]
    }
   ],
   "source": [
    "#creating a sequence of numbers between 1 and 7 with stride 0.5\n",
    "g = np.arange(1,10,0.5)\n",
    "print('g = {}'.format(g))"
   ]
  },
  {
   "cell_type": "code",
   "execution_count": 35,
   "metadata": {},
   "outputs": [
    {
     "name": "stdout",
     "output_type": "stream",
     "text": [
      "c = [ 1.     1.375  1.75   2.125  2.5    2.875  3.25   3.625  4.     4.375\n",
      "  4.75   5.125  5.5    5.875  6.25   6.625  7.     7.375  7.75   8.125\n",
      "  8.5    8.875  9.25   9.625 10.   ]\n"
     ]
    }
   ],
   "source": [
    "#creating 100 numbers between 1 and 10\n",
    "c = np.linspace(1,10,25)\n",
    "print('c = {}'.format(c))"
   ]
  },
  {
   "cell_type": "code",
   "execution_count": 36,
   "metadata": {},
   "outputs": [
    {
     "name": "stdout",
     "output_type": "stream",
     "text": [
      "a = [ 0  1  2  3  4  5  6  7  8  9 10 11 12 13 14]\n",
      "--------------------\n",
      "b = [[ 0  1  2  3  4]\n",
      " [ 5  6  7  8  9]\n",
      " [10 11 12 13 14]]\n"
     ]
    },
    {
     "data": {
      "text/plain": [
       "(3, 5)"
      ]
     },
     "execution_count": 36,
     "metadata": {},
     "output_type": "execute_result"
    }
   ],
   "source": [
    "# create a vector of 10 elements and reshape it into 5*2 array\n",
    "a = np.arange(15)\n",
    "print('a = {}'.format(a))\n",
    "print(\"-\"*20)\n",
    "b = a.reshape(3,5)\n",
    "print('b = {}'.format(b))\n",
    "b.shape"
   ]
  },
  {
   "cell_type": "code",
   "execution_count": 42,
   "metadata": {},
   "outputs": [
    {
     "name": "stdout",
     "output_type": "stream",
     "text": [
      "c = [ 0  1  2  3  4  5  6  7  8  9 10 11 12 13 14]\n"
     ]
    },
    {
     "data": {
      "text/plain": [
       "(15,)"
      ]
     },
     "execution_count": 42,
     "metadata": {},
     "output_type": "execute_result"
    }
   ],
   "source": [
    "# flatten the previous array\n",
    "c = b.flatten()\n",
    "print('c = {}'.format(c))\n",
    "c.shape"
   ]
  },
  {
   "cell_type": "code",
   "execution_count": 43,
   "metadata": {},
   "outputs": [
    {
     "name": "stdout",
     "output_type": "stream",
     "text": [
      "d = [[1 2 3]\n",
      " [4 5 6]]\n",
      "e = [[1 4]\n",
      " [2 5]\n",
      " [3 6]]\n"
     ]
    }
   ],
   "source": [
    "# create a 2*3 array then find its transpose\n",
    "d = np.array([[1,2,3],[4,5,6]])\n",
    "print('d = {}'.format(d))\n",
    "e = d.transpose()\n",
    "print(\"e = {}\".format(e))"
   ]
  },
  {
   "cell_type": "code",
   "execution_count": 49,
   "metadata": {},
   "outputs": [
    {
     "name": "stdout",
     "output_type": "stream",
     "text": [
      "a = [[1.52971042 0.97165017]\n",
      " [2.50394863 2.81630368]\n",
      " [3.57413748 4.32720644]]\n"
     ]
    }
   ],
   "source": [
    "#Create a random 3*2 array\n",
    "import random\n",
    "random.seed(4)\n",
    "a = np.random.random_sample((3,2))*5\n",
    "print('a = {}'.format(a))"
   ]
  },
  {
   "cell_type": "code",
   "execution_count": 51,
   "metadata": {},
   "outputs": [
    {
     "name": "stdout",
     "output_type": "stream",
     "text": [
      "min(a) =0.9716501679861606\n",
      "argmin(a) = 1\n"
     ]
    }
   ],
   "source": [
    "# find the minimum of the previous array (a) and its index\n",
    "print(\"min(a) ={}\".format(np.min(a)))\n",
    "print(\"argmin(a) = {}\".format(np.argmin(a)))"
   ]
  },
  {
   "cell_type": "code",
   "execution_count": 52,
   "metadata": {},
   "outputs": [
    {
     "name": "stdout",
     "output_type": "stream",
     "text": [
      "max(a) = 4.327206441657382\n",
      "argmax(a) = 5\n"
     ]
    }
   ],
   "source": [
    "# find the minimum of the previous array (a) and its index\n",
    "print(\"max(a) = {}\".format(np.max(a)))\n",
    "print(\"argmax(a) = {}\".format(np.argmax(a)))"
   ]
  },
  {
   "cell_type": "code",
   "execution_count": 53,
   "metadata": {},
   "outputs": [
    {
     "name": "stdout",
     "output_type": "stream",
     "text": [
      "a = [[0.86781391 3.13345554]\n",
      " [1.31313489 4.9449256 ]\n",
      " [4.70239497 2.29408872]]\n",
      "--------------------\n",
      "mean(a) = 2.8759689374342194\n",
      "var(a) = 2.416072416696928\n",
      "std(a) = 1.5543720329113386\n"
     ]
    }
   ],
   "source": [
    "random.seed(4)\n",
    "a = np.random.random_sample((3, 2))*5\n",
    "print(\"a = {}\".format(a))\n",
    "print(\"-\"*20)\n",
    "print(\"mean(a) = {}\".format(np.mean(a)))\n",
    "print(\"var(a) = {}\".format(np.var(a)))\n",
    "print(\"std(a) = {}\".format(np.std(a)))"
   ]
  },
  {
   "cell_type": "code",
   "execution_count": 54,
   "metadata": {},
   "outputs": [],
   "source": [
    "#LINEAR ALGENRA WITH NUMPY"
   ]
  },
  {
   "cell_type": "code",
   "execution_count": 55,
   "metadata": {},
   "outputs": [
    {
     "name": "stdout",
     "output_type": "stream",
     "text": [
      "b = exp(a)[[1.92099619 1.42360886 1.0812972 ]\n",
      " [1.69274741 1.67746711 1.32007574]\n",
      " [1.40801146 1.06422428 1.64986244]]\n"
     ]
    }
   ],
   "source": [
    "# create a square, random matrix a \n",
    "a = np.random.random_sample((3,3))\n",
    "b = np.exp(a)\n",
    "print(\"b = exp(a){}\".format(b))"
   ]
  },
  {
   "cell_type": "code",
   "execution_count": 56,
   "metadata": {},
   "outputs": [
    {
     "name": "stdout",
     "output_type": "stream",
     "text": [
      "determinant(b)= 0.6819945961851213\n",
      "rank(b)= 3\n",
      "trace(b)= 5.2483257292494825\n"
     ]
    }
   ],
   "source": [
    "#Compute the determinant, rank and trace of b\n",
    "det = np.linalg.det(b)\n",
    "print(\"determinant(b)= {}\".format(det))\n",
    "rank = np.linalg.matrix_rank(b)\n",
    "print(\"rank(b)= {}\".format(rank))\n",
    "trace = np.trace(b)\n",
    "print(\"trace(b)= {}\".format(trace))"
   ]
  },
  {
   "cell_type": "code",
   "execution_count": 57,
   "metadata": {},
   "outputs": [
    {
     "name": "stdout",
     "output_type": "stream",
     "text": [
      "the eigen values of b:\n",
      "[4.41814207 0.28115557 0.54902808]\n",
      "the the right eigen vectors of b:\n",
      "[[-0.5813291  -0.72080751 -0.60747166]\n",
      " [-0.61542422  0.65233895 -0.01775263]\n",
      " [-0.53226827  0.23428705  0.79414295]]\n"
     ]
    }
   ],
   "source": [
    "#find the eigen values and the eigen vectors of matrix b\n",
    "eigen_val,eigen_vec = np.linalg.eig(b)\n",
    "print(\"the eigen values of b:\\n{}\".format(eigen_val))\n",
    "print(\"the the right eigen vectors of b:\\n{}\".format(eigen_vec))"
   ]
  },
  {
   "cell_type": "code",
   "execution_count": 58,
   "metadata": {},
   "outputs": [
    {
     "name": "stdout",
     "output_type": "stream",
     "text": [
      "U of b is :\n",
      "[[-0.58555558  0.52577143  0.61700006]\n",
      " [-0.61117808  0.21366929 -0.76210681]\n",
      " [-0.53252795 -0.82335281  0.19622473]]\n",
      "V of b is :\n",
      "[[-0.65508045 -0.54617233 -0.52207796]\n",
      " [ 0.35587022  0.38649938 -0.85086698]\n",
      " [ 0.6665028  -0.74317832 -0.05882172]]\n",
      "singular values of b are :\n",
      "[4.44102033 0.59685482 0.25729389]\n"
     ]
    }
   ],
   "source": [
    "# implement singular value decomposition on matrix b\n",
    "u,s,vh = np.linalg.svd(b)\n",
    "print(\"U of b is :\\n{}\".format(u))\n",
    "print(\"V of b is :\\n{}\".format(vh))\n",
    "print(\"singular values of b are :\\n{}\".format(s))"
   ]
  },
  {
   "cell_type": "code",
   "execution_count": 59,
   "metadata": {},
   "outputs": [
    {
     "name": "stdout",
     "output_type": "stream",
     "text": [
      "the dot product of a and b is:\n",
      "[[37 40]\n",
      " [85 92]]\n",
      "the dot product of a and b is:\n",
      "[[37 40]\n",
      " [85 92]]\n",
      "the dot product of a and b is:\n",
      "[[11 24]\n",
      " [39 56]]\n"
     ]
    }
   ],
   "source": [
    "# generate two arrays and compute their dot product\n",
    "a = np.array([[1,2],[3,4]]) \n",
    "b = np.array([[11,12],[13,14]]) \n",
    "c = np.dot(a,b)\n",
    "print(\"the dot product of a and b is:\\n{}\".format(c))\n",
    "d = np.matmul(a,b)\n",
    "print(\"the dot product of a and b is:\\n{}\".format(d))\n",
    "print(\"the dot product of a and b is:\\n{}\".format(a*b))"
   ]
  },
  {
   "cell_type": "code",
   "execution_count": 60,
   "metadata": {},
   "outputs": [
    {
     "name": "stdout",
     "output_type": "stream",
     "text": [
      "[[0.59543015 0.30652761 0.84201761]\n",
      " [0.04369021 0.26223868 0.73810025]\n",
      " [0.6350882  0.4226481  0.21379223]]\n",
      "the inverse of a is:\n",
      "[[ 1.87842775 -2.1313285  -0.03992253]\n",
      " [-3.37245208  2.99102163  2.95609538]\n",
      " [ 1.08700476  0.41831257 -1.04790416]]\n",
      "the pseudo-inverse of a is:\n",
      "[[ 1.87842775 -2.1313285  -0.03992253]\n",
      " [-3.37245208  2.99102163  2.95609538]\n",
      " [ 1.08700476  0.41831257 -1.04790416]]\n"
     ]
    }
   ],
   "source": [
    "# Generate an array and computation of its inverse and pseudo-inverse\n",
    "a = np.random.random_sample((3,3))\n",
    "print(a)\n",
    "#Compute the (multiplicative) inverse of a matrix.\n",
    "print(\"the inverse of a is:\")\n",
    "b = np.linalg.inv(a)\n",
    "print(b)\n",
    "#compute the (Moore-Penrose) pseudo-inverse of a\n",
    "print(\"the pseudo-inverse of a is:\")\n",
    "c = np.linalg.pinv(a)\n",
    "print(c)\n"
   ]
  },
  {
   "cell_type": "code",
   "execution_count": 61,
   "metadata": {},
   "outputs": [
    {
     "name": "stdout",
     "output_type": "stream",
     "text": [
      "4\n",
      "4\n",
      "5\n"
     ]
    }
   ],
   "source": [
    "import random\n",
    "np.random.seed(3)\n",
    "d = random.randint(1, 10)  \n",
    "print(d)\n",
    "print(d)\n",
    "np.random.seed(1099)\n",
    "d = random.randint(1, 10) \n",
    "print(d)\n"
   ]
  },
  {
   "cell_type": "markdown",
   "metadata": {},
   "source": [
    "# Part 2: Pandas"
   ]
  },
  {
   "cell_type": "code",
   "execution_count": 62,
   "metadata": {},
   "outputs": [],
   "source": [
    "#1. Load the pandas package"
   ]
  },
  {
   "cell_type": "code",
   "execution_count": 63,
   "metadata": {},
   "outputs": [],
   "source": [
    "import pandas as pd"
   ]
  },
  {
   "cell_type": "code",
   "execution_count": 64,
   "metadata": {},
   "outputs": [
    {
     "data": {
      "text/html": [
       "<div>\n",
       "<style scoped>\n",
       "    .dataframe tbody tr th:only-of-type {\n",
       "        vertical-align: middle;\n",
       "    }\n",
       "\n",
       "    .dataframe tbody tr th {\n",
       "        vertical-align: top;\n",
       "    }\n",
       "\n",
       "    .dataframe thead th {\n",
       "        text-align: right;\n",
       "    }\n",
       "</style>\n",
       "<table border=\"1\" class=\"dataframe\">\n",
       "  <thead>\n",
       "    <tr style=\"text-align: right;\">\n",
       "      <th></th>\n",
       "      <th>Name</th>\n",
       "      <th>Age</th>\n",
       "      <th>sex</th>\n",
       "    </tr>\n",
       "  </thead>\n",
       "  <tbody>\n",
       "    <tr>\n",
       "      <th>0</th>\n",
       "      <td>Sahar</td>\n",
       "      <td>28</td>\n",
       "      <td>female</td>\n",
       "    </tr>\n",
       "    <tr>\n",
       "      <th>1</th>\n",
       "      <td>Nisha</td>\n",
       "      <td>30</td>\n",
       "      <td>female</td>\n",
       "    </tr>\n",
       "    <tr>\n",
       "      <th>2</th>\n",
       "      <td>Lokesh</td>\n",
       "      <td>25</td>\n",
       "      <td>male</td>\n",
       "    </tr>\n",
       "  </tbody>\n",
       "</table>\n",
       "</div>"
      ],
      "text/plain": [
       "     Name  Age     sex\n",
       "0   Sahar   28  female\n",
       "1   Nisha   30  female\n",
       "2  Lokesh   25    male"
      ]
     },
     "execution_count": 64,
     "metadata": {},
     "output_type": "execute_result"
    }
   ],
   "source": [
    "#2. I want to store customers data. For a number of customers I know, the name(characters), age(integers), and sex(male/female) data.\n",
    "\n",
    "df = pd.DataFrame({\"Name\": [\"Sahar\",\"Nisha\",\"Lokesh\"],\"Age\":[28,30,25],\"sex\":[\"female\",\"female\",\"male\"]})\n",
    "df"
   ]
  },
  {
   "cell_type": "code",
   "execution_count": 65,
   "metadata": {},
   "outputs": [
    {
     "data": {
      "text/plain": [
       "0    28\n",
       "1    30\n",
       "2    25\n",
       "Name: Age, dtype: int64"
      ]
     },
     "execution_count": 65,
     "metadata": {},
     "output_type": "execute_result"
    }
   ],
   "source": [
    "#3. To access the data of one column:\n",
    "df[\"Age\"]"
   ]
  },
  {
   "cell_type": "code",
   "execution_count": null,
   "metadata": {},
   "outputs": [],
   "source": []
  }
 ],
 "metadata": {
  "kernelspec": {
   "display_name": "Python 3.6 (tensorflow)",
   "language": "python",
   "name": "tensorflow"
  },
  "language_info": {
   "codemirror_mode": {
    "name": "ipython",
    "version": 3
   },
   "file_extension": ".py",
   "mimetype": "text/x-python",
   "name": "python",
   "nbconvert_exporter": "python",
   "pygments_lexer": "ipython3",
   "version": "3.6.8"
  }
 },
 "nbformat": 4,
 "nbformat_minor": 4
}
